{
 "cells": [
  {
   "cell_type": "markdown",
   "metadata": {},
   "source": [
    "Some of the imports are not useful yet"
   ]
  },
  {
   "cell_type": "code",
   "execution_count": 27,
   "metadata": {
    "collapsed": false
   },
   "outputs": [],
   "source": [
    "from __future__ import print_function\n",
    "import os\n",
    "import matplotlib.pyplot as plt\n",
    "import numpy as np\n",
    "from sklearn import preprocessing\n",
    "import sys\n",
    "import tarfile\n",
    "from IPython.display import display, Image\n",
    "from scipy import ndimage\n",
    "from sklearn.linear_model import LogisticRegression\n",
    "from six.moves.urllib.request import urlretrieve\n",
    "from six.moves import cPickle as pickle\n",
    "from six.moves import range\n",
    "import tensorflow as tf\n",
    "from yaafelib import *"
   ]
  },
  {
   "cell_type": "code",
   "execution_count": 28,
   "metadata": {
    "collapsed": false
   },
   "outputs": [],
   "source": [
    "import csv\n",
    "dataset_xs = []\n",
    "dataset_y = []\n",
    "with open('data/ismis.csv', 'rb') as csvfile:\n",
    "    next(csvfile) # skip header\n",
    "    reader = csv.reader(csvfile)\n",
    "    for row in reader:\n",
    "        features_strings = row[1:147] + row[168:191] \n",
    "        dataset_xs.append(map(float, features_strings)) # features\n",
    "        dataset_y.append(row[-1]) # genre\n",
    "    \n",
    "classes = set(dataset_y)\n",
    "nb_classes = len(classes)\n",
    "mappings = dict(enumerate(classes))\n",
    "mappings_rev = {v: k for k, v in mappings.items()}\n",
    "dataset_y_mapped = map(lambda x: mappings_rev[x], dataset_y)\n",
    "\n",
    "def evens(dataset):\n",
    "    return dataset[::2]\n",
    "def odds(dataset):\n",
    "    return dataset[1::2]\n",
    "\n",
    "train_dataset_xs = evens(dataset_xs)\n",
    "train_dataset_y = evens(dataset_y_mapped)\n",
    "test_dataset_xs = odds(dataset_xs)\n",
    "test_dataset_y = odds(dataset_y_mapped)\n",
    "\n",
    "def randomize(dataset_xs, dataset_y):\n",
    "    permutation = np.random.permutation(len(dataset_y))\n",
    "    shuffled_dataset_xs = np.asarray(dataset_xs)[permutation]\n",
    "    shuffled_dataset_y = np.asarray(dataset_y)[permutation]\n",
    "    return shuffled_dataset_xs, shuffled_dataset_y\n",
    "\n",
    "train_dataset_xs, train_dataset_y = randomize(train_dataset_xs,train_dataset_y)\n",
    "test_dataset_xs, test_dataset_y = randomize(test_dataset_xs, test_dataset_y)\n",
    "\n",
    "try:\n",
    "    f = open('data/ismis_randomized.pickle', 'wb')\n",
    "    save = {\n",
    "        'train_dataset_xs': train_dataset_xs,\n",
    "        'train_dataset_y': train_dataset_y,\n",
    "        'test_dataset_xs': test_dataset_xs,\n",
    "        'test_dataset_y': test_dataset_y,\n",
    "        'mappings': mappings\n",
    "    }\n",
    "    pickle.dump(save, f, pickle.HIGHEST_PROTOCOL)\n",
    "    f.close()\n",
    "except Exception as e:\n",
    "    print('Unable to save data to', pickle_file, ':', e)\n",
    "    raise"
   ]
  },
  {
   "cell_type": "code",
   "execution_count": 36,
   "metadata": {
    "collapsed": false
   },
   "outputs": [
    {
     "name": "stdout",
     "output_type": "stream",
     "text": [
      "(6248, 169)\n",
      "[1 5 4 ..., 1 0 3]\n"
     ]
    }
   ],
   "source": [
    "with open('data/ismis_randomized.pickle', 'rb') as f:\n",
    "    save = pickle.load(f)\n",
    "    train_dataset_xs = save['train_dataset_xs']\n",
    "    train_dataset_y = save['train_dataset_y']\n",
    "    test_dataset_xs = save['test_dataset_xs']\n",
    "    test_dataset_y = save['test_dataset_y']\n",
    "    del save  # gc\n",
    "\n",
    "def oneHotEncoder(pos, max):\n",
    "    encoded = []\n",
    "    for i in range(0, max):\n",
    "        if i == pos:\n",
    "            encoded.append(1)\n",
    "        else:\n",
    "            encoded.append(0)\n",
    "    return encoded\n",
    "def reformat(dataset, labels):\n",
    "    dataset = np.asarray(dataset).astype(np.float32)\n",
    "    labels = map(lambda x: np.int32(x), labels)\n",
    "    labels = map(lambda x: oneHotEncoder(x, 6), labels)\n",
    "    return dataset, labels\n",
    "\n",
    "train_dataset, train_labels = reformat(train_dataset_xs, train_dataset_y)\n",
    "test_dataset, test_labels = reformat(test_dataset_xs, test_dataset_y)\n",
    "print(train_dataset.shape)\n",
    "print (test_dataset_y)"
   ]
  },
  {
   "cell_type": "code",
   "execution_count": 33,
   "metadata": {
    "collapsed": false
   },
   "outputs": [
    {
     "data": {
      "image/png": "[encoded data removed]",
      "text/plain": [
       "<matplotlib.figure.Figure at 0x7f5482dd4610>"
      ]
     },
     "metadata": {},
     "output_type": "display_data"
    },
    {
     "data": {
      "image/png": "[encoded data removed]",
      "text/plain": [
       "<matplotlib.figure.Figure at 0x7f5479c63e90>"
      ]
     },
     "metadata": {},
     "output_type": "display_data"
    },
    {
     "name": "stdout",
     "output_type": "stream",
     "text": [
      "[-0.75373578 -0.19530514 -0.61856073 -0.637344   -0.05083795  0.01946966\n",
      "  0.0208541   0.09126843  1.21818876  2.26501918  1.97545266  0.64961594\n",
      "  0.60563827  0.31516322  0.37665573  1.20441079 -0.26252475  0.37789357\n",
      " -0.22304699 -0.71604723 -0.92723399 -0.97684795 -1.44344258 -1.5777843\n",
      " -1.43424153 -0.41745582 -0.29662713  0.11738986  0.07288725  0.61280537\n",
      "  0.60265219  0.94746149  0.74753451  1.30012834 -1.19117379 -0.83299989\n",
      "  0.36683008 -0.6279459  -0.27964532 -0.39966312 -0.36451894 -0.39748538\n",
      " -0.67353749 -0.54595178 -0.58454716 -0.64326322  0.20652065 -0.37641284\n",
      " -0.51343548 -0.4860445  -0.02614793 -0.59603482 -0.52257669 -1.02380526\n",
      " -0.9406836  -1.1589123  -0.99130374 -0.67946893 -0.66484773 -0.6373542\n",
      " -0.75399727 -0.611803   -0.45207176 -0.11682466 -0.37695462  0.14528276\n",
      " -0.27574942  0.24380778  0.22654632 -0.35902464 -0.0699006  -0.71846086\n",
      " -0.52464187 -0.75865322 -0.6425038   0.08585847  0.83475935  0.95285285\n",
      "  1.18251896  0.57154793 -0.33283687  0.66668558  1.30425692  0.83383769\n",
      "  1.76606226  1.63489211  1.12024307  1.20683849  1.16665483  0.89149654\n",
      "  0.96925527  0.51210922  0.94383502  0.6390214   0.54406923  0.16411966\n",
      "  0.01130806  0.14000316 -1.35264373  0.629044    1.00427389 -0.85114658\n",
      " -0.38817608 -1.01804018  0.86153686  0.396276    0.3039721  -1.0294677\n",
      "  0.35446554 -1.37161005 -1.28100276 -0.69418758 -0.74649042 -1.11330187\n",
      " -0.09978411 -0.67341858 -0.19685392 -0.94209766 -0.73534209 -0.54311633\n",
      "  0.49280113  0.20646073  1.28675544 -1.05964124 -0.54127151 -0.88037056\n",
      " -0.0221626   2.07119107 -0.3132796   0.01360214  0.21073839 -0.14771995\n",
      " -0.49610683  0.55340517 -0.1645681   0.14422065  0.72242606  0.22314507\n",
      " -0.84517235  2.01920629 -0.48602426  0.85585374  0.32726556  0.35746774\n",
      " -0.14970718 -0.58822435 -0.14714338 -0.71452397  0.71073782 -0.22847788\n",
      "  0.46592239 -0.24768473 -0.52714711 -0.58882868 -0.82102835 -0.13497491\n",
      " -0.0281536  -0.49855152 -0.18499319 -0.59043825 -0.84451175 -0.40845555\n",
      "  0.05370082 -0.07734881  0.04865795 -0.49713394 -0.42958054 -0.83470941\n",
      " -0.4115243 ]\n"
     ]
    },
    {
     "data": {
      "image/png": "[encoded data removed]",
      "text/plain": [
       "<matplotlib.figure.Figure at 0x7f5482907b10>"
      ]
     },
     "metadata": {},
     "output_type": "display_data"
    },
    {
     "data": {
      "image/png": "[encoded data removed]",
      "text/plain": [
       "<matplotlib.figure.Figure at 0x7f5482b6c910>"
      ]
     },
     "metadata": {},
     "output_type": "display_data"
    }
   ],
   "source": [
    "%matplotlib inline  \n",
    "\n",
    "plt.plot(train_dataset[0,2:])\n",
    "plt.show()\n",
    "\n",
    "plt.plot(train_dataset[:,0])\n",
    "plt.show()\n",
    "\n",
    "mu = train_dataset.mean(axis=0)\n",
    "sigma = train_dataset.std(axis=0)\n",
    "train_dataset_scaled = (train_dataset - mu) / sigma\n",
    "test_dataset_scaled = (test_dataset - mu) / sigma\n",
    "\n",
    "plt.plot(train_dataset_scaled[0,2:])\n",
    "plt.show()\n",
    "\n",
    "plt.plot(train_dataset_scaled[:,0])\n",
    "plt.show()"
   ]
  },
  {
   "cell_type": "code",
   "execution_count": 31,
   "metadata": {
    "collapsed": false,
    "scrolled": true
   },
   "outputs": [
    {
     "name": "stdout",
     "output_type": "stream",
     "text": [
      "Initialized\n",
      "Minibatch loss at step 0 : 1.79605\n",
      "Minibatch accuracy: 36.7%\n",
      "Minibatch loss at step 100 : 0.340509\n",
      "Minibatch accuracy: 93.8%\n",
      "Minibatch loss at step 200 : 0.190701\n",
      "Minibatch accuracy: 98.4%\n",
      "Minibatch loss at step 300 : 0.250634\n",
      "Minibatch accuracy: 97.7%\n",
      "Minibatch loss at step 400 : 0.208525\n",
      "Minibatch accuracy: 99.2%\n",
      "Minibatch loss at step 500 : 0.0995168\n",
      "Minibatch accuracy: 99.2%\n",
      "Minibatch loss at step 600 : 0.0743019\n",
      "Minibatch accuracy: 100.0%\n",
      "Minibatch loss at step 700 : 0.0732845\n",
      "Minibatch accuracy: 100.0%\n",
      "Minibatch loss at step 800 : 0.0881006\n",
      "Minibatch accuracy: 99.2%\n",
      "Minibatch loss at step 900 : 0.069698\n",
      "Minibatch accuracy: 100.0%\n",
      "Minibatch loss at step 1000 : 0.0450861\n",
      "Minibatch accuracy: 100.0%\n",
      "Minibatch loss at step 1100 : 0.137064\n",
      "Minibatch accuracy: 98.4%\n",
      "Minibatch loss at step 1200 : 0.0129459\n",
      "Minibatch accuracy: 100.0%\n",
      "Minibatch loss at step 1300 : 0.00895182\n",
      "Minibatch accuracy: 100.0%\n",
      "Minibatch loss at step 1400 : 0.0126482\n",
      "Minibatch accuracy: 100.0%\n",
      "Minibatch loss at step 1500 : 0.034154\n",
      "Minibatch accuracy: 100.0%\n",
      "Minibatch loss at step 1600 : 0.101714\n",
      "Minibatch accuracy: 100.0%\n",
      "Minibatch loss at step 1700 : 0.00403766\n",
      "Minibatch accuracy: 100.0%\n",
      "Minibatch loss at step 1800 : 0.00179045\n",
      "Minibatch accuracy: 100.0%\n",
      "Minibatch loss at step 1900 : 0.00431683\n",
      "Minibatch accuracy: 100.0%\n",
      "Minibatch loss at step 2000 : 0.00663877\n",
      "Minibatch accuracy: 100.0%\n",
      "Minibatch loss at step 2100 : 0.0531134\n",
      "Minibatch accuracy: 100.0%\n",
      "Minibatch loss at step 2200 : 0.00167962\n",
      "Minibatch accuracy: 100.0%\n",
      "Minibatch loss at step 2300 : 0.0113096\n",
      "Minibatch accuracy: 100.0%\n",
      "Minibatch loss at step 2400 : 0.0043456\n",
      "Minibatch accuracy: 100.0%\n",
      "Minibatch loss at step 2500 : 0.000661774\n",
      "Minibatch accuracy: 100.0%\n",
      "Minibatch loss at step 2600 : 0.00401128\n",
      "Minibatch accuracy: 100.0%\n",
      "Minibatch loss at step 2700 : 0.00045119\n",
      "Minibatch accuracy: 100.0%\n",
      "Minibatch loss at step 2800 : 0.00851461\n",
      "Minibatch accuracy: 100.0%\n",
      "Minibatch loss at step 2900 : 0.00226493\n",
      "Minibatch accuracy: 100.0%\n",
      "Minibatch loss at step 3000 : 0.00106224\n",
      "Minibatch accuracy: 100.0%\n",
      "Test accuracy: 96.1%\n"
     ]
    }
   ],
   "source": [
    "def accuracy(predictions, labels):\n",
    "    return (100.0 * np.sum(np.argmax(predictions, 1) == np.argmax(labels, 1)) / predictions.shape[0])\n",
    "\n",
    "batch_size = 128\n",
    "num_labels = 6\n",
    "num_features = 169\n",
    "hidden_layer1_size = 1024\n",
    "hidden_layer2_size = 256\n",
    "hidden_lastlayer_size = 56\n",
    "\n",
    "regularization_meta = 0.03\n",
    "\n",
    "graph = tf.Graph()\n",
    "with graph.as_default():\n",
    "    tf_train_dataset = tf.placeholder(tf.float32, shape=(batch_size, num_features))\n",
    "    tf_train_labels = tf.placeholder(tf.float32, shape=(batch_size, num_labels))\n",
    "    tf_test_dataset = tf.constant(test_dataset_scaled)\n",
    "    keep_prob = tf.placeholder(tf.float32)\n",
    "\n",
    "    weights_layer1 = tf.Variable(tf.truncated_normal([num_features, hidden_layer1_size], stddev=0.05))\n",
    "    biases_layer1 = tf.Variable(tf.zeros([hidden_layer1_size]))\n",
    "\n",
    "    weights_layer2 = tf.Variable(\n",
    "        tf.truncated_normal([hidden_layer1_size, hidden_layer1_size], stddev=0.05))\n",
    "    biases_layer2 = tf.Variable(tf.zeros([hidden_layer1_size]))\n",
    "\n",
    "    weights_layer3 = tf.Variable(\n",
    "        tf.truncated_normal([hidden_layer1_size, hidden_layer2_size], stddev=0.05))\n",
    "    biases_layer3 = tf.Variable(tf.zeros([hidden_layer2_size]))\n",
    "\n",
    "    weights_layer4 = tf.Variable(\n",
    "        tf.truncated_normal([hidden_layer2_size, hidden_lastlayer_size], stddev=0.05))\n",
    "    biases_layer4 = tf.Variable(tf.zeros([hidden_lastlayer_size]))\n",
    "\n",
    "    weights = tf.Variable(tf.truncated_normal([hidden_lastlayer_size, num_labels], stddev=0.1))\n",
    "    biases = tf.Variable(tf.zeros([num_labels]))\n",
    "\n",
    "    def getNN4Layer(dSet, use_dropout):\n",
    "        input_to_layer1 = tf.matmul(dSet, weights_layer1) + biases_layer1\n",
    "        hidden_layer1_output = tf.nn.relu(input_to_layer1)\n",
    "\n",
    "        logits_hidden1 = None\n",
    "        if use_dropout:\n",
    "            dropout_hidden1 = tf.nn.dropout(hidden_layer1_output, keep_prob)\n",
    "            logits_hidden1 = tf.matmul(dropout_hidden1, weights_layer2) + biases_layer2\n",
    "        else:\n",
    "            logits_hidden1 = tf.matmul(hidden_layer1_output, weights_layer2) + biases_layer2\n",
    "\n",
    "        hidden_layer2_output = tf.nn.relu(logits_hidden1)\n",
    "\n",
    "        logits_hidden2 = None\n",
    "        if use_dropout:\n",
    "            dropout_hidden2 = tf.nn.dropout(hidden_layer2_output, keep_prob)\n",
    "            logits_hidden2 = tf.matmul(dropout_hidden2, weights_layer3) + biases_layer3\n",
    "        else:\n",
    "            logits_hidden2 = tf.matmul(hidden_layer2_output, weights_layer3) + biases_layer3\n",
    "\n",
    "        hidden_layer3_output = tf.nn.relu(logits_hidden2)\n",
    "        logits_hidden3 = None\n",
    "        if use_dropout:\n",
    "            dropout_hidden3 = tf.nn.dropout(hidden_layer3_output, keep_prob)\n",
    "            logits_hidden3 = tf.matmul(dropout_hidden3, weights_layer4) + biases_layer4\n",
    "        else:\n",
    "            logits_hidden3 = tf.matmul(hidden_layer3_output, weights_layer4) + biases_layer4\n",
    "\n",
    "        hidden_layer4_output = tf.nn.relu(logits_hidden3)\n",
    "        logits = None\n",
    "        if use_dropout:\n",
    "            dropout_hidden4 = tf.nn.dropout(hidden_layer4_output, keep_prob)\n",
    "            logits = tf.matmul(dropout_hidden4, weights) + biases\n",
    "        else:\n",
    "            logits = tf.matmul(hidden_layer4_output, weights) + biases\n",
    "\n",
    "        return logits\n",
    "\n",
    "    logits = getNN4Layer(tf_train_dataset, True)\n",
    "    logits_test = getNN4Layer(tf_test_dataset, False)\n",
    "\n",
    "    loss = tf.reduce_mean(tf.nn.softmax_cross_entropy_with_logits(logits, tf_train_labels))\n",
    "\n",
    "    global_step = tf.Variable(0)\n",
    "    learning_rate = tf.train.exponential_decay(0.3, global_step, 500, 0.90, staircase=True)\n",
    "    optimizer = tf.train.GradientDescentOptimizer(learning_rate).minimize(loss, global_step=global_step)\n",
    "\n",
    "    train_prediction = tf.nn.softmax(logits)\n",
    "    test_prediction = tf.nn.softmax(logits_test)\n",
    "\n",
    "    num_steps = 3001\n",
    "    \n",
    "    with tf.Session(graph=graph) as session:\n",
    "        tf.initialize_all_variables().run()\n",
    "        print(\"Initialized\")\n",
    "        for step in xrange(num_steps):\n",
    "            offset = (step * batch_size) % (len(train_labels) - batch_size)\n",
    "            batch_data = train_dataset_scaled[offset:(offset + batch_size)]\n",
    "            batch_labels = train_labels[offset:(offset + batch_size)]\n",
    "\n",
    "            feed_dict = {tf_train_dataset: batch_data, tf_train_labels: batch_labels, keep_prob: 0.7}\n",
    "            _, l, predictions = session.run([optimizer, loss, train_prediction], feed_dict=feed_dict)\n",
    "            if (step % 100 == 0):\n",
    "                print(\"Minibatch loss at step\", step, \":\", l)\n",
    "                print(\"Minibatch accuracy: %.1f%%\" % accuracy(train_prediction.eval(\n",
    "                    feed_dict={tf_train_dataset: batch_data, tf_train_labels: batch_labels, keep_prob: 1.0}),\n",
    "                                                              batch_labels))\n",
    "        print(\"Test accuracy: %.1f%%\" % accuracy(test_prediction.eval(feed_dict={keep_prob: 1.0}), test_labels))"
   ]
  },
  {
   "cell_type": "code",
   "execution_count": null,
   "metadata": {
    "collapsed": true
   },
   "outputs": [],
   "source": []
  },
  {
   "cell_type": "code",
   "execution_count": null,
   "metadata": {
    "collapsed": true
   },
   "outputs": [],
   "source": []
  }
 ],
 "metadata": {
  "colab": {
   "default_view": {},
   "name": "2_fullyconnected.ipynb",
   "provenance": [],
   "version": "0.3.2",
   "views": {}
  },
  "kernelspec": {
   "display_name": "Python 2",
   "language": "python",
   "name": "python2"
  },
  "language_info": {
   "codemirror_mode": {
    "name": "ipython",
    "version": 2
   },
   "file_extension": ".py",
   "mimetype": "text/x-python",
   "name": "python",
   "nbconvert_exporter": "python",
   "pygments_lexer": "ipython2",
   "version": "2.7.6"
  }
 },
 "nbformat": 4,
 "nbformat_minor": 0
}
