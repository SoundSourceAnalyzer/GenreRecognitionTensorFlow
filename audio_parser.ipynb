{
 "cells": [
  {
   "cell_type": "markdown",
   "metadata": {},
   "source": [
    "Imports"
   ]
  },
  {
   "cell_type": "code",
   "execution_count": 1,
   "metadata": {
    "collapsed": false
   },
   "outputs": [],
   "source": [
    "from __future__ import print_function\n",
    "import os\n",
    "import numpy as np\n",
    "import sys\n",
    "import subprocess\n",
    "import tarfile\n",
    "import xml.etree.ElementTree as ET\n",
    "from IPython.display import display, Image\n",
    "from scipy import ndimage\n",
    "from six.moves.urllib.request import urlretrieve\n",
    "from six.moves import cPickle as pickle\n",
    "from six.moves import range\n",
    "from yaafelib import *"
   ]
  },
  {
   "cell_type": "code",
   "execution_count": 6,
   "metadata": {
    "collapsed": false
   },
   "outputs": [],
   "source": [
    "class FeatureExtractor:\n",
    "    \n",
    "    def __init__(self, audiofile):\n",
    "        self.audiofile = audiofile\n",
    "        \n",
    "        self.temporal_centroid = None      #1: Temporal Centroid\n",
    "        self.spectral_centroid = None      #2: Spectral Centroid average value\n",
    "        self.ase_per_band_avg = []         #4-37: Audio Spectrum Envelope (ASE) average values in 34 frequency bands\n",
    "        self.ase_avg = None                #38: ASE average value (averaged for all frequency bands)\n",
    "        self.ase_per_band_var = []         #39-72: ASE variance values in 34 frequency bands\n",
    "        self.ase_var_avg = None            #73: averaged ASE variance parameters\n",
    "        self.centroid_avg = None           #74: Audio Spectrum Centroid – average\n",
    "        self.centroid_var = None           #75: Audio Spectrum Centroid – variance\n",
    "        self.spread_avg = None             #76: Audio Spectrum Spread – average\n",
    "        self.spread_var = None             #77: Audio Spectrum Spread – variance\n",
    "        self.sfm_per_band_avg = []         #78-101: Spectral Flatness Measure (SFM) average values for 24 frequency bands\n",
    "        self.sfm_avg = None                #102: SFM average value (averaged for all frequency bands)\n",
    "        self.sfm_per_band_var = []         #103-126: Spectral Flatness Measure (SFM) variance values for 24 frequency bands\n",
    "        self.sfm_var_avg = None            #127: averaged SFM variance parameters\n",
    "        self.mfcc = []                     #128-147: 20 first mel cepstral coefficients average values\n",
    "        self.harmonic_spectral_centroid = None\n",
    "        self.harmonic_spectral_deviation = None\n",
    "        self.harmonic_spectral_spread = None\n",
    "        self.harmonic_spectral_variation = None\n",
    "        self.audio_fundamental_frequency_avg = None\n",
    "        self.audio_fundamental_frequency_var = None\n",
    "        self.harmonic_ratio_avg = None\n",
    "        self.harmonic_ratio_var = None\n",
    "        self.upper_limit_harmonicity_avg = None\n",
    "        self.upper_limit_harmonicity_var = None\n",
    "        self.audio_power_avg = None\n",
    "        self.audio_power_var = None\n",
    "        self.asp_per_band_avg = []\n",
    "        self.asp_avg = None\n",
    "        self.asp_per_band_var = []\n",
    "        self.asp_var_avg = None\n",
    "        self.fv = []\n",
    "        \n",
    "    def export_features(self):\n",
    "        self.fv.append(self.temporal_centroid)\n",
    "        self.fv.append(self.spectral_centroid)\n",
    "        self.fv.extend(filter(lambda a: a != 0, self.ase_per_band_avg))\n",
    "        self.fv.append(self.ase_avg)\n",
    "        self.fv.extend(filter(lambda a: a != 0, self.ase_per_band_var))\n",
    "        self.fv.append(self.ase_var_avg)\n",
    "        self.fv.append(self.centroid_avg)\n",
    "        self.fv.append(self.centroid_var)\n",
    "        self.fv.append(self.spread_avg)\n",
    "        self.fv.append(self.spread_var)\n",
    "        self.fv.extend(self.sfm_per_band_avg)\n",
    "        self.fv.append(self.sfm_avg)\n",
    "        self.fv.extend(self.sfm_per_band_var)\n",
    "        self.fv.append(self.sfm_var_avg)\n",
    "        self.fv.extend(self.mfcc.tolist()[0])\n",
    "        self.fv.append(self.harmonic_spectral_centroid)\n",
    "        self.fv.append(self.harmonic_spectral_deviation)\n",
    "        self.fv.append(self.harmonic_spectral_spread)\n",
    "        self.fv.append(self.harmonic_spectral_variation)\n",
    "        self.fv.append(self.audio_fundamental_frequency_avg)\n",
    "        self.fv.append(self.audio_fundamental_frequency_var)\n",
    "        self.fv.append(self.audio_power_avg)\n",
    "        self.fv.append(self.audio_power_var)\n",
    "        self.fv.extend(self.asp_per_band_avg)\n",
    "        self.fv.append(self.asp_avg)\n",
    "        self.fv.extend(self.asp_per_band_var)\n",
    "        self.fv.append(self.asp_var_avg)\n",
    "        \n",
    "    def extract_features(self):\n",
    "        if os.path.exists(self.audiofile):\n",
    "            print('Getting features from ' + self.audiofile)\n",
    "        else:\n",
    "            raise Exception('File ' + self.audiofile + ' not found')\n",
    "            \n",
    "        self.extract_mpeg7_features()\n",
    "        self.extract_mfcc()\n",
    "        \n",
    "    def extract_mpeg7_features(self):\n",
    "        ns = {'xmlns' : 'urn:mpeg:mpeg7:schema:2001',\n",
    "              'mpeg7' : 'urn:mpeg:mpeg7:schema:2001',\n",
    "              'xsi' : 'http://www.w3.org/2001/XMLSchema-instance',\n",
    "              'xsi:schemaLocation' : 'urn:mpeg:mpeg7:schema:2001 http://mpeg7audioenc.sourceforge.net/mpeg7audioenc.xsd'} \n",
    "\n",
    "        result = subprocess.check_output(['java', '-jar', 'MPEG7AudioEnc.jar', self.audiofile, 'mpeg7config.xml'])        \n",
    "        root = ET.fromstring(result)\n",
    "\n",
    "        self.extract_scalar_features(root, ns)\n",
    "        self.extract_vector_features(root, ns)\n",
    "        self.extract_matrix_features(root, ns)\n",
    "\n",
    "    def extract_scalar_features(self, root, ns):\n",
    "        self.temporal_centroid = self.parse_xml_scalar(root, \".//mpeg7:AudioDescriptor[@xsi:type='TemporalCentroidType']\", ns)\n",
    "        self.spectral_centroid = self.parse_xml_scalar(root, \".//mpeg7:AudioDescriptor[@xsi:type='SpectralCentroidType']\", ns)\n",
    "        self.harmonic_spectral_centroid = self.parse_xml_scalar(root, \".//mpeg7:AudioDescriptor[@xsi:type='HarmonicSpectralCentroidType']\", ns)\n",
    "        self.harmonic_spectral_deviation = self.parse_xml_scalar(root, \".//mpeg7:AudioDescriptor[@xsi:type='HarmonicSpectralDeviationType']\", ns)\n",
    "        self.harmonic_spectral_spread = self.parse_xml_scalar(root, \".//mpeg7:AudioDescriptor[@xsi:type='HarmonicSpectralSpreadType']\", ns)\n",
    "        self.harmonic_spectral_variation = self.parse_xml_scalar(root, \".//mpeg7:AudioDescriptor[@xsi:type='HarmonicSpectralVariationType']\", ns)\n",
    "        \n",
    "    def extract_vector_features(self, root, ns):\n",
    "        audio_spectrum_centroid_values = self.parse_xml_vector(root, \".//mpeg7:AudioDescriptor[@xsi:type='AudioSpectrumCentroidType']\", ns)\n",
    "        self.centroid_avg = np.mean(audio_spectrum_centroid_values)\n",
    "        self.centroid_var = np.var(audio_spectrum_centroid_values)\n",
    "        \n",
    "        audio_spectrum_spread_values = self.parse_xml_vector(root, \".//mpeg7:AudioDescriptor[@xsi:type='AudioSpectrumSpreadType']\", ns)\n",
    "        self.spread_avg = np.mean(audio_spectrum_spread_values)\n",
    "        self.spread_var = np.var(audio_spectrum_spread_values)\n",
    "        \n",
    "        audio_fundamental_frequency_values = self.parse_xml_vector(root, \".//mpeg7:AudioDescriptor[@xsi:type='AudioFundamentalFrequencyType']\", ns)\n",
    "        self.audio_fundamental_frequency_avg = np.mean(audio_fundamental_frequency_values)\n",
    "        self.audio_fundamental_frequency_var = np.var(audio_fundamental_frequency_values)\n",
    "        \n",
    "        harmonic_ratio_values = self.parse_xml_vector(root, \".//mpeg7:HarmonicRatio\", ns)\n",
    "        self.harmonic_ratio_avg = np.mean(harmonic_ratio_values)\n",
    "        self.harmonic_ratio_var = np.var(harmonic_ratio_values)\n",
    "        \n",
    "        upper_limit_harmonicity_values = self.parse_xml_vector(root, \".//mpeg7:UpperLimitOfHarmonicity\", ns)\n",
    "        self.upper_limit_harmonicity_avg = np.mean(upper_limit_harmonicity_values )\n",
    "        self.upper_limit_harmonicity_var = np.var(upper_limit_harmonicity_values )\n",
    "        \n",
    "        audio_power_values = self.parse_xml_vector(root, \".//mpeg7:AudioDescriptor[@xsi:type='AudioPowerType']\", ns)\n",
    "        self.audio_power_avg = np.mean(audio_power_values)\n",
    "        self.audio_power_var = np.var(audio_power_values)\n",
    "        \n",
    "    def extract_matrix_features(self, root, ns):\n",
    "        envelope_values = self.parse_2d_xml_vector(root, \".//mpeg7:AudioDescriptor[@xsi:type='AudioSpectrumEnvelopeType']\", ns)          \n",
    "        self.ase_per_band_avg = [np.mean(band) for band in envelope_values]\n",
    "        self.ase_avg = np.mean(self.ase_per_band_avg)\n",
    "        self.ase_per_band_var = [np.var(band) for band in envelope_values]\n",
    "        self.ase_var_avg = np.mean(self.ase_per_band_var)\n",
    "        \n",
    "        flatness_values = self.parse_2d_xml_vector(root, \".//mpeg7:AudioDescriptor[@xsi:type='AudioSpectrumFlatnessType']\", ns)\n",
    "        self.sfm_per_band_avg = [np.mean(band) for band in flatness_values]\n",
    "        self.sfm_avg = np.mean(self.sfm_per_band_avg)\n",
    "        self.sfm_per_band_var = [np.var(band) for band in flatness_values]\n",
    "        self.sfm_var_avg = np.mean(self.sfm_per_band_var)\n",
    "        \n",
    "        asp_values = self.parse_2d_xml_vector(root, \".//mpeg7:AudioDescriptor[@xsi:type='AudioSpectrumProjectionType']\", ns)\n",
    "        self.asp_per_band_avg = [np.mean(band) for band in asp_values]\n",
    "        self.asp_avg = np.mean(self.asp_per_band_avg)\n",
    "        self.asp_per_band_var = [np.var(band) for band in asp_values]\n",
    "        self.asp_var_avg = np.mean(self.asp_per_band_var)\n",
    "    \n",
    "    def parse_xml_scalar(self, root, xml_selector, ns):\n",
    "        element = root.find(xml_selector, ns)\n",
    "        return float(element.find(\".//mpeg7:Scalar\", ns).text)\n",
    "    \n",
    "    def parse_xml_vector(self, root, xml_selector, ns):\n",
    "        element = root.find(xml_selector, ns)\n",
    "        values_splitted = element.find(\".//mpeg7:Raw\", ns).text.split()\n",
    "        return map((lambda x: float(x)), values_splitted)\n",
    "    \n",
    "    def parse_2d_xml_vector(self, root, xml_selector, ns):\n",
    "        element = root.find(xml_selector, ns)\n",
    "        values_string = element.find(\".//mpeg7:Raw\", ns).text\n",
    "        values_splitted = [s.strip().split() for s in values_string.splitlines()]\n",
    "        values = [map((lambda x: float(x)), value) for value in values_splitted] #cast to float\n",
    "        transposed_values = list(map(list, zip(*values))) #transpose matrix to have 1 long vector per 1 band\n",
    "        return transposed_values \n",
    "    \n",
    "    def extract_mfcc(self):\n",
    "        fp = FeaturePlan(sample_rate=22050, normalize=1)\n",
    "        fp.addFeature('mfcc: MFCC CepsNbCoeffs=20')\n",
    "        df = fp.getDataFlow()\n",
    "        engine = Engine()\n",
    "        engine.load(df)\n",
    "        afp = AudioFileProcessor()\n",
    "        afp.setOutputFormat('csv', 'features', {'Precision': '8', 'Metadata': 'False'})\n",
    "        afp.processFile(engine, self.audiofile)\n",
    "        engine.flush()\n",
    "        feats = engine.readAllOutputs()\n",
    "        self.mfcc = feats['mfcc']"
   ]
  },
  {
   "cell_type": "code",
   "execution_count": 14,
   "metadata": {
    "collapsed": false
   },
   "outputs": [
    {
     "name": "stdout",
     "output_type": "stream",
     "text": [
      "Getting features from blues.00000.au\n",
      "[811.45155477825938, -0.99884786623207777, 3.3942706975696493e-06, -2.2055739965085669e-06, 3.5790065408241407e-07, -1.0070609370487266e-06, -9.293557278291459e-07, 9.286805018012362e-07, -7.8495819572482645e-08]\n"
     ]
    }
   ],
   "source": [
    "featureExtractor = FeatureExtractor('blues.00000.au')\n",
    "featureExtractor.extract_features()\n",
    "featureExtractor.export_features()\n",
    "print(featureExtractor.asp_per_band_avg)"
   ]
  },
  {
   "cell_type": "code",
   "execution_count": null,
   "metadata": {
    "collapsed": false,
    "scrolled": true
   },
   "outputs": [],
   "source": [
    "root = os.path.join(os.getcwd(),'genres')\n",
    "\n",
    "genres = os.listdir(root)\n",
    "mappings = dict(enumerate(genres))\n",
    "mappings_rev = {v: k for k, v in mappings.items()}\n",
    "dataset_xs = []\n",
    "dataset_y = []\n",
    "\n",
    "for folder in os.listdir(root):\n",
    "    data_folder = os.path.join(root, folder)\n",
    "    filenames = os.listdir(data_folder)\n",
    "    for filename in filenames:\n",
    "        path=os.path.join(data_folder, filename)\n",
    "        genre = mappings_rev[folder]\n",
    "        featureExtractor = FeatureExtractor(path)\n",
    "        featureExtractor.extract_features()\n",
    "        featureExtractor.export_features()\n",
    "        dataset_xs.append(featureExtractor.fv)\n",
    "        dataset_y.append(genre)"
   ]
  },
  {
   "cell_type": "code",
   "execution_count": null,
   "metadata": {
    "collapsed": false
   },
   "outputs": [],
   "source": [
    "print(dataset_xs[0])"
   ]
  },
  {
   "cell_type": "code",
   "execution_count": null,
   "metadata": {
    "collapsed": false
   },
   "outputs": [],
   "source": [
    "def evens(dataset):\n",
    "    return dataset[::2]\n",
    "def odds(dataset):\n",
    "    return dataset[1::2]\n",
    "\n",
    "train_dataset_xs = evens(dataset_xs)\n",
    "train_dataset_y = evens(dataset_y)\n",
    "test_dataset_xs = odds(dataset_xs)\n",
    "test_dataset_y = odds(dataset_y)\n",
    "\n",
    "def randomize(dataset_xs, dataset_y):\n",
    "    permutation = np.random.permutation(len(dataset_y))\n",
    "    shuffled_dataset_xs = np.asarray(dataset_xs)[permutation]\n",
    "    shuffled_dataset_y = np.asarray(dataset_y)[permutation]\n",
    "    return shuffled_dataset_xs, shuffled_dataset_y\n",
    "\n",
    "train_dataset_xs, train_dataset_y = randomize(train_dataset_xs,train_dataset_y)\n",
    "test_dataset_xs, test_dataset_y = randomize(test_dataset_xs, test_dataset_y)"
   ]
  },
  {
   "cell_type": "code",
   "execution_count": null,
   "metadata": {
    "collapsed": true
   },
   "outputs": [],
   "source": [
    "try:\n",
    "    f = open('data/gztan.pickle', 'wb')\n",
    "    save = {\n",
    "        'train_dataset_xs': train_dataset_xs,\n",
    "        'train_dataset_y': train_dataset_y,\n",
    "        'test_dataset_xs': test_dataset_xs,\n",
    "        'test_dataset_y': test_dataset_y,\n",
    "        'mappings': mappings\n",
    "    }\n",
    "    pickle.dump(save, f, pickle.HIGHEST_PROTOCOL)\n",
    "    f.close()\n",
    "except Exception as e:\n",
    "    print('Unable to save data to', pickle_file, ':', e)\n",
    "    raise"
   ]
  },
  {
   "cell_type": "code",
   "execution_count": null,
   "metadata": {
    "collapsed": true
   },
   "outputs": [],
   "source": []
  },
  {
   "cell_type": "code",
   "execution_count": null,
   "metadata": {
    "collapsed": true
   },
   "outputs": [],
   "source": []
  }
 ],
 "metadata": {
  "kernelspec": {
   "display_name": "Python 2",
   "language": "python",
   "name": "python2"
  },
  "language_info": {
   "codemirror_mode": {
    "name": "ipython",
    "version": 2
   },
   "file_extension": ".py",
   "mimetype": "text/x-python",
   "name": "python",
   "nbconvert_exporter": "python",
   "pygments_lexer": "ipython2",
   "version": "2.7.6"
  }
 },
 "nbformat": 4,
 "nbformat_minor": 0
}
